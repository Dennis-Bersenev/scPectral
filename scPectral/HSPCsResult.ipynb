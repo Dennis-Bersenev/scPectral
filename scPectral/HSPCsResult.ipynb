{
 "cells": [
  {
   "attachments": {},
   "cell_type": "markdown",
   "metadata": {},
   "source": [
    "# Analysis with Hypernetx package<sup>1</sup>\n",
    "<pre>\n",
    "Dataset is of murine hematapoietic stem and progenitor cells (HSPCs)<sup>2</sup>. \n",
    "TODO: ref other things like locaTE\n",
    "References:\n",
    "[1] https://github.com/pnnl/HyperNetX\n",
    "\n",
    "[2] Marot-Lassauzaie V, Bouman BJ, Donaghy FD, Demerdash Y, Essers MAG, Haghverdi L (2022) Towards reliable quantification of cell state velocities. \n",
    "    PLoS Comput Biol 18(9): e1010031. https://doi.org/10.1371/journal.pcbi.1010031\n",
    "</pre>"
   ]
  },
  {
   "cell_type": "code",
   "execution_count": 1,
   "metadata": {},
   "outputs": [],
   "source": [
    "import numpy as np\n",
    "import pandas as pd\n",
    "import matplotlib.pyplot as plt\n",
    "import hypernetx as hnx\n",
    "import model\n",
    "import utils\n",
    "import glob\n",
    "import pickle"
   ]
  },
  {
   "cell_type": "markdown",
   "metadata": {},
   "source": [
    "# Initialization"
   ]
  },
  {
   "cell_type": "code",
   "execution_count": 2,
   "metadata": {},
   "outputs": [],
   "source": [
    "# 2430 cells and 50 TFs\n",
    "cell_count = 2430\n",
    "gene_count = 50\n",
    "infile_dir = \"./../data/TEsHSPC/\"\n",
    "# temp_dir = \"./../../locaTE.jl/examples/HSPC/mydata/networks/\"\n",
    "# labels_df = pd.read_csv('./../../locaTE.jl/examples/HSPC/mydata/genes.csv')\n",
    "labels = utils.load_pickle(glob.glob(infile_dir + \"*.pickle\")[0])\n"
   ]
  },
  {
   "cell_type": "code",
   "execution_count": 3,
   "metadata": {},
   "outputs": [
    {
     "data": {
      "text/plain": [
       "array(['Cebpe', 'Cenpa', 'Creb5', 'Dach1', 'Ebf1', 'Egr1', 'Ets1', 'Fos',\n",
       "       'Fosb', 'Gata1', 'Gata2', 'Gata3', 'Gfi1', 'Gfi1b', 'Hlf', 'Hmga2',\n",
       "       'Hmgb2', 'Hmgb3', 'Ikzf2', 'Irf7', 'Irf8', 'Klf1', 'Klf12', 'Klf2',\n",
       "       'Klf6', 'Mecom', 'Mef2c', 'Meis1', 'Myb', 'Myc', 'Mycn', 'Nfe2',\n",
       "       'Nfia', 'Nkx2-3', 'Pbx1', 'Pgr', 'Plek', 'Pou2f2', 'Rora', 'Satb1',\n",
       "       'Spi1', 'Tox', 'Tsc22d1', 'Zbtb20', 'Zfhx3', 'Zfp36l1', 'Zfp467',\n",
       "       'Zfp532', 'Zfp608', 'Zfpm1'], dtype=object)"
      ]
     },
     "execution_count": 3,
     "metadata": {},
     "output_type": "execute_result"
    }
   ],
   "source": [
    "# labels_df\n",
    "labels"
   ]
  },
  {
   "attachments": {},
   "cell_type": "markdown",
   "metadata": {},
   "source": [
    "# Graph Construction"
   ]
  },
  {
   "cell_type": "code",
   "execution_count": 4,
   "metadata": {},
   "outputs": [],
   "source": [
    "m = model.HyperGraph(n_cells=cell_count, n_genes=gene_count, infile_dir=infile_dir, gene_labels=labels)\n",
    "m.construct_graph(0.75) # tolerance chosen on the basis of whether it managed to produce an obvious spectral gap \n",
    "HG = hnx.classes.Hypergraph.collapse_edges(m.HG) \n",
    "# HG = m.HG"
   ]
  },
  {
   "attachments": {},
   "cell_type": "markdown",
   "metadata": {},
   "source": [
    "# HNX Exploration"
   ]
  },
  {
   "cell_type": "code",
   "execution_count": 5,
   "metadata": {},
   "outputs": [],
   "source": [
    "L, index = hnx.algorithms.laplacians_clustering.norm_lap(HG, weights=True)\n",
    "L = L.toarray()"
   ]
  },
  {
   "cell_type": "code",
   "execution_count": 6,
   "metadata": {},
   "outputs": [],
   "source": [
    "eigvals, eigvecs = np.linalg.eig(L)\n",
    "\n",
    "# sort eigenvals, then sort eigenvecs by the eigenvals\n",
    "sorted_indices = np.flip(np.argsort(eigvals))\n",
    "sorted_eigvals = eigvals[sorted_indices] # sort the vals\n",
    "sorted_eigvecs = eigvecs[:,sorted_indices] # sorts the columns\n",
    "\n",
    "# Sanity check to ensure eigenvecs got sorted\n",
    "eps = 0.0001\n",
    "min_index = np.argmin(eigvals)\n",
    "if (np.sum(np.abs(np.abs(eigvecs[:,min_index]) - np.abs(sorted_eigvecs[:,L.shape[0] - 1])) < eps) != L.shape[0]):\n",
    "    raise ValueError(\"Incorrectly sorted eigenvalues\")\n"
   ]
  },
  {
   "cell_type": "code",
   "execution_count": 7,
   "metadata": {},
   "outputs": [
    {
     "data": {
      "text/plain": [
       "<matplotlib.collections.PathCollection at 0x7fefce6d7c90>"
      ]
     },
     "execution_count": 7,
     "metadata": {},
     "output_type": "execute_result"
    },
    {
     "data": {
      "image/png": "[encoded data removed]",
      "text/plain": [
       "<Figure size 800x800 with 1 Axes>"
      ]
     },
     "metadata": {},
     "output_type": "display_data"
    }
   ],
   "source": [
    "x = np.arange(L.shape[0])\n",
    "plt.scatter(x, sorted_eigvals)"
   ]
  },
  {
   "cell_type": "code",
   "execution_count": 8,
   "metadata": {},
   "outputs": [],
   "source": [
    "clusters = hnx.algorithms.laplacians_clustering.spec_clus(HG, k=3, weights=True)\n"
   ]
  },
  {
   "cell_type": "code",
   "execution_count": 10,
   "metadata": {},
   "outputs": [],
   "source": [
    "utils.write_results(clusters, './../results/HSPC_pathways.csv')"
   ]
  },
  {
   "cell_type": "code",
   "execution_count": null,
   "metadata": {},
   "outputs": [],
   "source": [
    "clusters"
   ]
  }
 ],
 "metadata": {
  "kernelspec": {
   "display_name": "bioinformatics",
   "language": "python",
   "name": "python3"
  },
  "language_info": {
   "codemirror_mode": {
    "name": "ipython",
    "version": 3
   },
   "file_extension": ".py",
   "mimetype": "text/x-python",
   "name": "python",
   "nbconvert_exporter": "python",
   "pygments_lexer": "ipython3",
   "version": "3.7.16"
  },
  "orig_nbformat": 4
 },
 "nbformat": 4,
 "nbformat_minor": 2
}
