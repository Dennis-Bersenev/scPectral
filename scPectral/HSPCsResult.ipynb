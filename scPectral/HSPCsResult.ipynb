{
 "cells": [
  {
   "attachments": {},
   "cell_type": "markdown",
   "metadata": {},
   "source": [
    "# Analysis with Hypernetx package<sup>1</sup>\n",
    "<pre>\n",
    "Dataset is of murine hematapoietic stem and progenitor cells (HSPCs)<sup>2</sup>. \n",
    "TODO: ref other things like locaTE\n",
    "References:\n",
    "[1] https://github.com/pnnl/HyperNetX\n",
    "\n",
    "[2] Marot-Lassauzaie V, Bouman BJ, Donaghy FD, Demerdash Y, Essers MAG, Haghverdi L (2022) Towards reliable quantification of cell state velocities. \n",
    "    PLoS Comput Biol 18(9): e1010031. https://doi.org/10.1371/journal.pcbi.1010031\n",
    "</pre>"
   ]
  },
  {
   "cell_type": "code",
   "execution_count": 1,
   "metadata": {},
   "outputs": [],
   "source": [
    "import numpy as np\n",
    "import pandas as pd\n",
    "import matplotlib.pyplot as plt\n",
    "import hypernetx as hnx\n",
    "import model\n",
    "import utils\n",
    "import glob"
   ]
  },
  {
   "cell_type": "markdown",
   "metadata": {},
   "source": [
    "# Initialization"
   ]
  },
  {
   "cell_type": "code",
   "execution_count": 2,
   "metadata": {},
   "outputs": [],
   "source": [
    "# 2430 cells and 50 TFs\n",
    "cell_count = 2430\n",
    "gene_count = 50\n",
    "infile_dir = \"./../data/TEsHSPC/\"\n",
    "# labels_df = pd.read_csv('./../../locaTE.jl/examples/HSPC/mydata/genes.csv')\n",
    "# labels = labels_df.values[:, 1]\n",
    "# with open(infile_dir + 'gene_labels.pickle', 'wb') as outstream:\n",
    "#     pickle.dump(labels, outstream) \n"
   ]
  },
  {
   "attachments": {},
   "cell_type": "markdown",
   "metadata": {},
   "source": [
    "# Graph Construction"
   ]
  },
  {
   "cell_type": "code",
   "execution_count": 3,
   "metadata": {},
   "outputs": [],
   "source": [
    "m = model.HyperGraph(n_cells=cell_count, n_genes=gene_count, infile_dir=infile_dir)\n",
    "m.construct_graph(0.75) # TODO: tolerance chosen arbitrarily, better way? \n",
    "# HG = hnx.classes.Hypergraph.collapse_nodes_and_edges(m.HG) \n",
    "HG = m.HG"
   ]
  },
  {
   "attachments": {},
   "cell_type": "markdown",
   "metadata": {},
   "source": [
    "# HNX Exploration"
   ]
  },
  {
   "cell_type": "code",
   "execution_count": 4,
   "metadata": {},
   "outputs": [],
   "source": [
    "L, index = hnx.algorithms.laplacians_clustering.norm_lap(HG, weights=True)\n",
    "L = L.toarray()"
   ]
  },
  {
   "cell_type": "code",
   "execution_count": 5,
   "metadata": {},
   "outputs": [],
   "source": [
    "eigvals, eigvecs = np.linalg.eig(L)\n",
    "\n",
    "# sort eigenvals, then sort eigenvecs by the eigenvals\n",
    "sorted_indices = np.flip(np.argsort(eigvals))\n",
    "sorted_eigvals = eigvals[sorted_indices] # sort the vals\n",
    "sorted_eigvecs = eigvecs[:,sorted_indices] # sorts the columns\n",
    "\n",
    "# Sanity check to ensure eigenvecs got sorted\n",
    "eps = 0.0001\n",
    "min_index = np.argmin(eigvals)\n",
    "if (np.sum(np.abs(np.abs(eigvecs[:,min_index]) - np.abs(sorted_eigvecs[:,L.shape[0] - 1])) < eps) != L.shape[0]):\n",
    "    raise ValueError(\"Incorrectly sorted eigenvalues\")\n"
   ]
  },
  {
   "cell_type": "code",
   "execution_count": 7,
   "metadata": {},
   "outputs": [
    {
     "data": {
      "text/plain": [
       "<matplotlib.collections.PathCollection at 0x7fc1b2342f10>"
      ]
     },
     "execution_count": 7,
     "metadata": {},
     "output_type": "execute_result"
    },
    {
     "data": {
      "image/png": "[encoded data removed]",
      "text/plain": [
       "<Figure size 800x800 with 1 Axes>"
      ]
     },
     "metadata": {},
     "output_type": "display_data"
    }
   ],
   "source": [
    "x = np.arange(L.shape[0])\n",
    "plt.scatter(x, sorted_eigvals)"
   ]
  },
  {
   "cell_type": "code",
   "execution_count": 12,
   "metadata": {},
   "outputs": [
    {
     "data": {
      "text/plain": [
       "{0: ['Mecom',\n",
       "  'Meis1',\n",
       "  'Cenpa',\n",
       "  'Gfi1b',\n",
       "  'Zfpm1',\n",
       "  'Myb',\n",
       "  'Zbtb20',\n",
       "  'Hmgb2',\n",
       "  'Zfp608',\n",
       "  'Myc',\n",
       "  'Mef2c',\n",
       "  'Klf6',\n",
       "  'Hmgb3',\n",
       "  'Pou2f2',\n",
       "  'Tsc22d1',\n",
       "  'Pbx1',\n",
       "  'Nfia',\n",
       "  'Klf1',\n",
       "  'Spi1',\n",
       "  'Zfp36l1'],\n",
       " 1: ['Ikzf2', 'Satb1', 'Dach1', 'Nfe2', 'Irf8', 'Gfi1', 'Hlf'],\n",
       " 2: ['Ets1', 'Gata2', 'Gata1', 'Plek', 'Cebpe']}"
      ]
     },
     "execution_count": 12,
     "metadata": {},
     "output_type": "execute_result"
    }
   ],
   "source": [
    "clusters = hnx.algorithms.laplacians_clustering.spec_clus(HG, k=3, weights=True)\n",
    "clusters"
   ]
  }
 ],
 "metadata": {
  "kernelspec": {
   "display_name": "bioinformatics",
   "language": "python",
   "name": "python3"
  },
  "language_info": {
   "codemirror_mode": {
    "name": "ipython",
    "version": 3
   },
   "file_extension": ".py",
   "mimetype": "text/x-python",
   "name": "python",
   "nbconvert_exporter": "python",
   "pygments_lexer": "ipython3",
   "version": "3.7.16"
  },
  "orig_nbformat": 4
 },
 "nbformat": 4,
 "nbformat_minor": 2
}
