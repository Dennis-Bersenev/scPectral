{
 "cells": [
  {
   "attachments": {},
   "cell_type": "markdown",
   "metadata": {},
   "source": [
    "# Setup and Preprocessing"
   ]
  },
  {
   "cell_type": "code",
   "execution_count": 2,
   "metadata": {},
   "outputs": [],
   "source": [
    "import numpy as np\n",
    "import pandas as pd\n",
    "import hotspot\n",
    "import matplotlib.pyplot as plt\n",
    "import matplotlib.colors\n",
    "import seaborn as sns\n",
    "import mplscience\n",
    "\n",
    "from scipy.io import mmread\n",
    "from scipy.sparse import csr_matrix\n",
    "\n",
    "import scanpy as sc"
   ]
  },
  {
   "cell_type": "code",
   "execution_count": 3,
   "metadata": {},
   "outputs": [],
   "source": [
    "counts_raw = mmread(\"./../data/GSM3302829_embryo3_SeuratNorm.mtx.gz\")\n",
    "counts_raw = csr_matrix(counts_raw)\n",
    "barcodes = pd.read_table(\"./../data/GSM3302829_embryo3_SeuratBarcodes.tsv.gz\", header=None)[0]\n",
    "barcodes = [x+'-1' for x in barcodes] # to match the newick file\n",
    "genes = pd.read_table(\"./../data/GSM3302829_embryo3_SeuratGenes.tsv.gz\", header=None)[0]"
   ]
  },
  {
   "cell_type": "code",
   "execution_count": 6,
   "metadata": {},
   "outputs": [
    {
     "data": {
      "text/plain": [
       "1756"
      ]
     },
     "execution_count": 6,
     "metadata": {},
     "output_type": "execute_result"
    }
   ],
   "source": [
    "# Load the tree and enumerate the leaves\n",
    "from ete3 import Tree\n",
    "tree = Tree(\"./../data/0726_E2-2_tree_greedy_priors.processed.txt\", format=1)\n",
    "leaves = set()\n",
    "for tn in tree.traverse('postorder'):\n",
    "    if tn.is_leaf():\n",
    "        leaves.add(tn.name)\n",
    "len(leaves)"
   ]
  },
  {
   "cell_type": "code",
   "execution_count": 7,
   "metadata": {},
   "outputs": [],
   "source": [
    "# Subset the count matrix to only the cells where the lineage was recoverable\n",
    "is_valid = [x in leaves for x in barcodes]\n",
    "is_valid_indices = np.nonzero(is_valid)[0]\n",
    "valid_barcodes = [barcodes[i] for i in is_valid_indices]"
   ]
  },
  {
   "cell_type": "code",
   "execution_count": 8,
   "metadata": {},
   "outputs": [
    {
     "name": "stderr",
     "output_type": "stream",
     "text": [
      "/tmp/ipykernel_59536/566723758.py:1: FutureWarning: X.dtype being converted to np.float32 from float64. In the next version of anndata (0.9) conversion will not be automatic. Pass dtype explicitly to avoid this warning. Pass `AnnData(X, dtype=X.dtype, ...)` to get the future behavour.\n",
      "  adata = sc.AnnData(counts_raw.transpose())\n",
      "/home/dennis/miniconda3/envs/bioinformatics/lib/python3.9/site-packages/scanpy/preprocessing/_simple.py:251: ImplicitModificationWarning: Trying to modify attribute `.var` of view, initializing view as actual.\n",
      "  adata.var['n_cells'] = number\n"
     ]
    }
   ],
   "source": [
    "adata = sc.AnnData(counts_raw.transpose())\n",
    "adata.obs_names = barcodes\n",
    "adata.var_names = genes\n",
    "\n",
    "adata = adata[valid_barcodes]\n",
    "sc.pp.filter_genes(adata, min_cells=10)"
   ]
  },
  {
   "attachments": {},
   "cell_type": "markdown",
   "metadata": {},
   "source": [
    "# Using HotSpot to get the pairwise relationships"
   ]
  },
  {
   "cell_type": "code",
   "execution_count": 9,
   "metadata": {},
   "outputs": [
    {
     "name": "stderr",
     "output_type": "stream",
     "text": [
      "100%|██████████| 1756/1756 [00:11<00:00, 156.16it/s]\n"
     ]
    }
   ],
   "source": [
    "# Create the Hotspot object and the neighborhood graph\n",
    "\n",
    "hs = hotspot.Hotspot(adata, model='normal', tree=tree)\n",
    "\n",
    "# TODO: Replace this with a TE-based calculation?\n",
    "hs.create_knn_graph(\n",
    "    weighted_graph=False, n_neighbors=30,\n",
    ")"
   ]
  },
  {
   "cell_type": "code",
   "execution_count": 11,
   "metadata": {},
   "outputs": [
    {
     "name": "stderr",
     "output_type": "stream",
     "text": [
      "100%|██████████| 12440/12440 [00:16<00:00, 751.61it/s]\n"
     ]
    },
    {
     "data": {
      "text/html": [
       "<div>\n",
       "<style scoped>\n",
       "    .dataframe tbody tr th:only-of-type {\n",
       "        vertical-align: middle;\n",
       "    }\n",
       "\n",
       "    .dataframe tbody tr th {\n",
       "        vertical-align: top;\n",
       "    }\n",
       "\n",
       "    .dataframe thead th {\n",
       "        text-align: right;\n",
       "    }\n",
       "</style>\n",
       "<table border=\"1\" class=\"dataframe\">\n",
       "  <thead>\n",
       "    <tr style=\"text-align: right;\">\n",
       "      <th></th>\n",
       "      <th>C</th>\n",
       "      <th>Z</th>\n",
       "      <th>Pval</th>\n",
       "      <th>FDR</th>\n",
       "    </tr>\n",
       "    <tr>\n",
       "      <th>Gene</th>\n",
       "      <th></th>\n",
       "      <th></th>\n",
       "      <th></th>\n",
       "      <th></th>\n",
       "    </tr>\n",
       "  </thead>\n",
       "  <tbody>\n",
       "    <tr>\n",
       "      <th>Rhox9</th>\n",
       "      <td>0.397749</td>\n",
       "      <td>67.377366</td>\n",
       "      <td>0.000000e+00</td>\n",
       "      <td>0.000000e+00</td>\n",
       "    </tr>\n",
       "    <tr>\n",
       "      <th>Gjb3</th>\n",
       "      <td>0.324565</td>\n",
       "      <td>58.648372</td>\n",
       "      <td>0.000000e+00</td>\n",
       "      <td>0.000000e+00</td>\n",
       "    </tr>\n",
       "    <tr>\n",
       "      <th>Gm9</th>\n",
       "      <td>0.299760</td>\n",
       "      <td>52.619236</td>\n",
       "      <td>0.000000e+00</td>\n",
       "      <td>0.000000e+00</td>\n",
       "    </tr>\n",
       "    <tr>\n",
       "      <th>Utf1</th>\n",
       "      <td>0.305452</td>\n",
       "      <td>51.477900</td>\n",
       "      <td>0.000000e+00</td>\n",
       "      <td>0.000000e+00</td>\n",
       "    </tr>\n",
       "    <tr>\n",
       "      <th>Ldoc1</th>\n",
       "      <td>0.292335</td>\n",
       "      <td>51.123571</td>\n",
       "      <td>0.000000e+00</td>\n",
       "      <td>0.000000e+00</td>\n",
       "    </tr>\n",
       "    <tr>\n",
       "      <th>Rhox6</th>\n",
       "      <td>0.281248</td>\n",
       "      <td>49.578977</td>\n",
       "      <td>0.000000e+00</td>\n",
       "      <td>0.000000e+00</td>\n",
       "    </tr>\n",
       "    <tr>\n",
       "      <th>Tfap2c</th>\n",
       "      <td>0.275263</td>\n",
       "      <td>45.350145</td>\n",
       "      <td>0.000000e+00</td>\n",
       "      <td>0.000000e+00</td>\n",
       "    </tr>\n",
       "    <tr>\n",
       "      <th>Pramef12</th>\n",
       "      <td>0.234209</td>\n",
       "      <td>43.074083</td>\n",
       "      <td>0.000000e+00</td>\n",
       "      <td>0.000000e+00</td>\n",
       "    </tr>\n",
       "    <tr>\n",
       "      <th>S100g</th>\n",
       "      <td>0.222336</td>\n",
       "      <td>39.798370</td>\n",
       "      <td>0.000000e+00</td>\n",
       "      <td>0.000000e+00</td>\n",
       "    </tr>\n",
       "    <tr>\n",
       "      <th>Apom</th>\n",
       "      <td>0.214624</td>\n",
       "      <td>38.925053</td>\n",
       "      <td>0.000000e+00</td>\n",
       "      <td>0.000000e+00</td>\n",
       "    </tr>\n",
       "    <tr>\n",
       "      <th>Rbp4</th>\n",
       "      <td>0.217408</td>\n",
       "      <td>38.900255</td>\n",
       "      <td>0.000000e+00</td>\n",
       "      <td>0.000000e+00</td>\n",
       "    </tr>\n",
       "    <tr>\n",
       "      <th>Fthl17a</th>\n",
       "      <td>0.224537</td>\n",
       "      <td>38.866392</td>\n",
       "      <td>0.000000e+00</td>\n",
       "      <td>0.000000e+00</td>\n",
       "    </tr>\n",
       "    <tr>\n",
       "      <th>Apoa1</th>\n",
       "      <td>0.213998</td>\n",
       "      <td>38.785211</td>\n",
       "      <td>0.000000e+00</td>\n",
       "      <td>0.000000e+00</td>\n",
       "    </tr>\n",
       "    <tr>\n",
       "      <th>Ttr</th>\n",
       "      <td>0.209014</td>\n",
       "      <td>37.770298</td>\n",
       "      <td>0.000000e+00</td>\n",
       "      <td>0.000000e+00</td>\n",
       "    </tr>\n",
       "    <tr>\n",
       "      <th>Ascl2</th>\n",
       "      <td>0.215794</td>\n",
       "      <td>37.610324</td>\n",
       "      <td>7.287842e-310</td>\n",
       "      <td>6.044050e-307</td>\n",
       "    </tr>\n",
       "  </tbody>\n",
       "</table>\n",
       "</div>"
      ],
      "text/plain": [
       "                 C          Z           Pval            FDR\n",
       "Gene                                                       \n",
       "Rhox9     0.397749  67.377366   0.000000e+00   0.000000e+00\n",
       "Gjb3      0.324565  58.648372   0.000000e+00   0.000000e+00\n",
       "Gm9       0.299760  52.619236   0.000000e+00   0.000000e+00\n",
       "Utf1      0.305452  51.477900   0.000000e+00   0.000000e+00\n",
       "Ldoc1     0.292335  51.123571   0.000000e+00   0.000000e+00\n",
       "Rhox6     0.281248  49.578977   0.000000e+00   0.000000e+00\n",
       "Tfap2c    0.275263  45.350145   0.000000e+00   0.000000e+00\n",
       "Pramef12  0.234209  43.074083   0.000000e+00   0.000000e+00\n",
       "S100g     0.222336  39.798370   0.000000e+00   0.000000e+00\n",
       "Apom      0.214624  38.925053   0.000000e+00   0.000000e+00\n",
       "Rbp4      0.217408  38.900255   0.000000e+00   0.000000e+00\n",
       "Fthl17a   0.224537  38.866392   0.000000e+00   0.000000e+00\n",
       "Apoa1     0.213998  38.785211   0.000000e+00   0.000000e+00\n",
       "Ttr       0.209014  37.770298   0.000000e+00   0.000000e+00\n",
       "Ascl2     0.215794  37.610324  7.287842e-310  6.044050e-307"
      ]
     },
     "execution_count": 11,
     "metadata": {},
     "output_type": "execute_result"
    }
   ],
   "source": [
    "hs_results = hs.compute_autocorrelations(jobs=20)"
   ]
  },
  {
   "cell_type": "code",
   "execution_count": null,
   "metadata": {},
   "outputs": [],
   "source": [
    "hs_results.head(15)"
   ]
  },
  {
   "attachments": {},
   "cell_type": "markdown",
   "metadata": {},
   "source": [
    "# Extracting the Edges of the Hypergraph"
   ]
  },
  {
   "cell_type": "code",
   "execution_count": null,
   "metadata": {},
   "outputs": [],
   "source": [
    "#TODO and doesn't make sense for HotSpot gives you."
   ]
  }
 ],
 "metadata": {
  "kernelspec": {
   "display_name": "bioinformatics",
   "language": "python",
   "name": "python3"
  },
  "language_info": {
   "codemirror_mode": {
    "name": "ipython",
    "version": 3
   },
   "file_extension": ".py",
   "mimetype": "text/x-python",
   "name": "python",
   "nbconvert_exporter": "python",
   "pygments_lexer": "ipython3",
   "version": "3.9.16"
  },
  "orig_nbformat": 4
 },
 "nbformat": 4,
 "nbformat_minor": 2
}
