{
 "cells": [
  {
   "attachments": {},
   "cell_type": "markdown",
   "metadata": {},
   "source": [
    "Source publication for dataset: \n",
    "https://www.nature.com/articles/s41467-018-02866-0"
   ]
  },
  {
   "cell_type": "code",
   "execution_count": 1,
   "metadata": {},
   "outputs": [],
   "source": [
    "import anndata as ad\n",
    "import numpy as np\n",
    "import pandas as pd\n",
    "from copy import deepcopy\n",
    "import seaborn as sn\n",
    "import matplotlib.pyplot as plt\n",
    "from sklearn.cluster import KMeans"
   ]
  },
  {
   "cell_type": "code",
   "execution_count": 2,
   "metadata": {},
   "outputs": [],
   "source": [
    "n_cells = 456\n",
    "n_genes = 100\n",
    "PWscores = np.zeros((n_cells, n_genes, n_genes))\n",
    "\n",
    "for i in range(n_cells):\n",
    "    path = \"./../data/TEsmESC/geneXgene{i}.csv\".format(i=(i+1))\n",
    "    df_temp = pd.read_csv(path)\n",
    "    PWscores[i, :, :] = np.copy(df_temp.values)\n",
    "    "
   ]
  },
  {
   "attachments": {},
   "cell_type": "markdown",
   "metadata": {},
   "source": [
    "# Visualizing TE scores across cells (over time)"
   ]
  },
  {
   "cell_type": "code",
   "execution_count": 3,
   "metadata": {},
   "outputs": [],
   "source": [
    "# heat_fig = sn.heatmap(PWscores[0, :, :], square=True)\n",
    "    # as_file = heat_fig.get_figure()\n",
    "    # path = \"./../out/cell{i}.png\".format(i = i + 1)\n",
    "    # as_file.savefig(path)\n",
    "    # ax.tick_params(left=False, bottom=False)"
   ]
  },
  {
   "attachments": {},
   "cell_type": "markdown",
   "metadata": {},
   "source": [
    "# Creation of the hypergraph"
   ]
  },
  {
   "attachments": {},
   "cell_type": "markdown",
   "metadata": {},
   "source": [
    "Note: a simple canonical edge has the form of tail->head"
   ]
  },
  {
   "cell_type": "code",
   "execution_count": 4,
   "metadata": {},
   "outputs": [],
   "source": [
    "\"\"\"\n",
    "Merges tails with common heads to identify all the multi-arity relations to represent as hedges and updates the supplied incidence matrix with these final hedges.\n",
    "_edges: a list of tuples (tail_set, head_set) of all the initial single-tailed edges (note: they are sets, not lists!)\n",
    "B: a list of n_gene-sized integer numpy arrays to represent the incidence matrix to update.\n",
    "\"\"\"\n",
    "def merge_edges(_edges, B):\n",
    "    \n",
    "    # init\n",
    "    edges = deepcopy(_edges)\n",
    "    m = len(edges)\n",
    "\n",
    "    # Stop when there's only a single edge left (not possible to merge anything else)\n",
    "    while (m >= 2):\n",
    "        \n",
    "        new_edges = [] \n",
    "        for i in range(0, m, 1):\n",
    "            e1 = edges[i]\n",
    "            for j in range(i + 1, m, 1):\n",
    "                e2 = edges[j]\n",
    "                common_heads = e1[1].intersection(e2[1])\n",
    "                if (len(common_heads) > 0):\n",
    "                    \n",
    "                    # The new edge\n",
    "                    new_tails = e1[0].union(e2[0]) \n",
    "                    new_edge = ([new_tails, common_heads])\n",
    "                    new_edges.append(new_edge)\n",
    "\n",
    "                    # Updating old edges (their head sets)\n",
    "                    e1[1] = set(e1[1] - common_heads)\n",
    "                    e2[1] = set(e2[1] - common_heads)\n",
    "\n",
    "        \n",
    "        # TODO: weight the edges?\n",
    "        # Add all edges with non-null head sets to the incidence matrix\n",
    "        for edge in edges:\n",
    "            col = np.zeros(n_genes)\n",
    "            if len(edge[1]) > 0:\n",
    "                for tail in edge[0]:\n",
    "                    col[tail] = 1 #TODO: TESTING\n",
    "                for head in edge[1]:\n",
    "                    col[head] = 1\n",
    "\n",
    "                B.append(np.copy(col))\n",
    "        \n",
    "        edges = deepcopy(new_edges)\n",
    "        m = len(edges)"
   ]
  },
  {
   "cell_type": "code",
   "execution_count": 5,
   "metadata": {},
   "outputs": [],
   "source": [
    "\"\"\" \n",
    "Creates a hypergraph, represented using an incidence matrix, from the given cell's PW gene network. \n",
    "cell_index: the index into the PWscores array for the desired cell.\n",
    "p: percentage parameter to use in tolerance calculation; decides which relationships relative to the maximum PW TE. \n",
    "returns: B the incidence matrix of the constructed hypergraph. \n",
    "\"\"\"\n",
    "def construct_hyper_graph(cell_index, p):\n",
    "    # init\n",
    "    unique_genes = set()\n",
    "    cell_nw = PWscores[cell_index, :, :]\n",
    "\n",
    "    # The incidence matrix (might use different data structure)\n",
    "    B = []\n",
    "\n",
    "    # all scores within whatever % of the max\n",
    "    tolerance = np.max(cell_nw) * p\n",
    "\n",
    "    tails = set(np.arange(start=0, stop=n_genes, step=1))\n",
    "\n",
    "    # debug var\n",
    "    count = 0\n",
    "\n",
    "    # TODO: TEST IT ALL \n",
    "    while (len(tails) > 0):\n",
    "        edges = []\n",
    "        new_tails = set()\n",
    "        heads_to_remember = set()\n",
    "\n",
    "        for tail in tails:\n",
    "            heads = set(np.flatnonzero(cell_nw[tail, :] > tolerance))\n",
    "            \n",
    "            # Termination condition: once there's no new heads added this never gets hit, no new tails get added and the tail set becomes null at the end of while itr\n",
    "            if (len(heads) > 0) and (heads.isdisjoint(unique_genes)):\n",
    "                \n",
    "                count += 1\n",
    "                \n",
    "                for head in heads:\n",
    "                    # error handling\n",
    "                    if (cell_nw[tail, head] <= tolerance):\n",
    "                        print(\"BIG BUG\") # TODO: keep this error cond here and handle it better!\n",
    "\n",
    "                    # update the next-level tails\n",
    "                    new_tails.add(head)\n",
    "                    \n",
    "                    # TODO: maybe make the set of all heads for this level here and wait till the end of the iteration to deep copy it over?\n",
    "                    heads_to_remember.add(head)\n",
    "                    \n",
    "                # update the edge set for this hgraph level\n",
    "                tail_as_set = set()\n",
    "                tail_as_set.add(tail)\n",
    "                edges.append([tail_as_set, heads])\n",
    "        \n",
    "        # update the unique heads set\n",
    "        # for e in edges:\n",
    "        #     for h in e[1]:\n",
    "        #         unique_genes.add(h)\n",
    "        for h in heads_to_remember:\n",
    "            unique_genes.add(h)\n",
    "\n",
    "        merge_edges(edges, B)\n",
    "        tails = set(deepcopy(new_tails))\n",
    "    \n",
    "    return B\n",
    "\n"
   ]
  },
  {
   "cell_type": "code",
   "execution_count": 6,
   "metadata": {},
   "outputs": [],
   "source": [
    "hedges = []\n",
    "# TODO: Test proper via some contrived examples\n",
    "for i in range(n_cells):\n",
    "    G = construct_hyper_graph(i, 0.7)\n",
    "    if (len(G) > 0):\n",
    "        hedges.append(np.transpose(np.array(G)))\n"
   ]
  },
  {
   "attachments": {},
   "cell_type": "markdown",
   "metadata": {},
   "source": [
    "# Forming the graph Laplacian"
   ]
  },
  {
   "cell_type": "code",
   "execution_count": 7,
   "metadata": {},
   "outputs": [
    {
     "data": {
      "text/plain": [
       "(100, 2065)"
      ]
     },
     "execution_count": 7,
     "metadata": {},
     "output_type": "execute_result"
    }
   ],
   "source": [
    "H = np.concatenate(hedges, axis=1)\n",
    "H.shape"
   ]
  },
  {
   "cell_type": "code",
   "execution_count": 8,
   "metadata": {},
   "outputs": [],
   "source": [
    "# pruning TFs (because of how python works, it makes more sense to first figure out all the indices where to delete, then delete)\n",
    "count = 0\n",
    "to_prune = []\n",
    "gene_labels = df_temp.columns.to_numpy()\n",
    "\n",
    "for v in range(n_genes):\n",
    "    deg_v = np.sum(H[v,:])\n",
    "    if deg_v == 0:\n",
    "        # remove the vertex, since it isn't involved in any hedges, therefore won't be in any pathways\n",
    "        count += 1\n",
    "        to_prune.append(v)\n",
    "\n",
    "n_genes = n_genes - count"
   ]
  },
  {
   "cell_type": "code",
   "execution_count": 9,
   "metadata": {},
   "outputs": [],
   "source": [
    "\n",
    "pruned_labels = np.delete(gene_labels, to_prune)\n",
    "pruned_H = np.delete(H, to_prune, axis=0) # delete rows with indices in to_prune\n",
    "\n",
    "# Checking it did its job\n",
    "if np.intersect1d(pruned_labels, gene_labels[to_prune]).shape[0] != 0:\n",
    "    raise ValueError(\"Pruning of background genes failed.\")\n"
   ]
  },
  {
   "cell_type": "code",
   "execution_count": 10,
   "metadata": {},
   "outputs": [],
   "source": [
    "# Creating the Diagonal vertex and edge degree matrix  \n",
    "Dv = np.zeros((n_genes, n_genes))\n",
    "De = np.zeros((pruned_H.shape[1], pruned_H.shape[1]))\n",
    "\n",
    "\n",
    "for v in range(n_genes):\n",
    "    deg_v = np.sum(pruned_H[v,:])\n",
    "    if deg_v == 0:\n",
    "        raise ValueError(\"Pruning of background genes failed.\")\n",
    "    else:\n",
    "        Dv[v, v] = deg_v\n",
    "\n",
    "for e in range(pruned_H.shape[1]):\n",
    "    De[e, e] = np.sum(pruned_H[:, e])\n",
    "\n",
    "\n",
    "# Normalized Laplacian of the hypergraph \n",
    "Dvis = np.linalg.inv(np.sqrt(Dv)) # replace each diagonal entry with the reciprocal of its square root, i.e. di with 1/sqrt(di)\n",
    "L_n = (Dvis @ pruned_H @ np.linalg.inv(De) @ (pruned_H.T) @ Dvis) # TODO: add W matrix later\n"
   ]
  },
  {
   "cell_type": "code",
   "execution_count": 11,
   "metadata": {},
   "outputs": [],
   "source": [
    "eigvals, eigvecs = np.linalg.eig(L_n) # looks really good!\n",
    "\n",
    "# # Checking evectors and evalues\n",
    "# eigvals[np.where(eigvals < 0.5)[0]]\n",
    "# eigvals[eigvals < 0.3]\n",
    "# eigvecs[55]\n",
    "# np.sum(eigvals < 0)\n",
    "# np.argmin(eigvals)\n",
    "# eigvecs[:,0] are the eigenvecs the rows or columns of this matrix? They're the columns\n",
    "# np.sum(L_normal * eigvecs[:,0]) # that's pree much 0\n"
   ]
  },
  {
   "attachments": {},
   "cell_type": "markdown",
   "metadata": {},
   "source": [
    "# From *On Spectral Clustering: Analysis and an algorithm*\n",
    "\n",
    "From L-normal:\n",
    "1. Find k **largest** orthogonal eigen*vectors* (orthogonal to avoid vecs of repeated eigen*values*) of L\n",
    "2. Make a matrix of 'em, n_genes x k = X\n",
    "3. Y = Normalize each row of X to have unit length\n",
    "4. Treat each row of Y as a point in R<sup>k</sup>, cluster into k-clusters via kmeans\n",
    "5. Assign rows i (you can just use the gene labels vector) to cluster j iff row i in Y was assigned to cluster j \n",
    "\n"
   ]
  },
  {
   "cell_type": "code",
   "execution_count": 12,
   "metadata": {},
   "outputs": [],
   "source": [
    "# sort eigenvals, then sort eigenvecs by the eigenvals\n",
    "sorted_indices = np.flip(np.argsort(eigvals))\n",
    "sorted_eigvals = eigvals[sorted_indices] # sort the vals\n",
    "sorted_eigvecs = eigvecs[:,sorted_indices] # sorts the columns"
   ]
  },
  {
   "cell_type": "code",
   "execution_count": 13,
   "metadata": {},
   "outputs": [
    {
     "data": {
      "text/plain": [
       "True"
      ]
     },
     "execution_count": 13,
     "metadata": {},
     "output_type": "execute_result"
    }
   ],
   "source": [
    "# Sanity check to ensure eigenvecs got sorted\n",
    "tolerance = 0.0001\n",
    "min_index = np.argmin(eigvals)\n",
    "np.sum(np.abs(np.abs(eigvecs[:,min_index]) - np.abs(sorted_eigvecs[:,n_genes - 1])) < tolerance) == n_genes"
   ]
  },
  {
   "attachments": {},
   "cell_type": "markdown",
   "metadata": {},
   "source": [
    "# Visualizing Eigenvalues for Hyperparameter Selection"
   ]
  },
  {
   "cell_type": "code",
   "execution_count": 14,
   "metadata": {},
   "outputs": [
    {
     "data": {
      "text/plain": [
       "<matplotlib.collections.PathCollection at 0x7f9f043a6fd0>"
      ]
     },
     "execution_count": 14,
     "metadata": {},
     "output_type": "execute_result"
    },
    {
     "data": {
      "image/png": "[encoded data removed]",
      "text/plain": [
       "<Figure size 640x480 with 1 Axes>"
      ]
     },
     "metadata": {},
     "output_type": "display_data"
    }
   ],
   "source": [
    "# y = np.flip(eigvals)\n",
    "x = np.arange(n_genes)\n",
    "plt.scatter(x, sorted_eigvals)"
   ]
  },
  {
   "attachments": {},
   "cell_type": "markdown",
   "metadata": {},
   "source": [
    "# Perform the clustering to determine the pathways"
   ]
  },
  {
   "cell_type": "code",
   "execution_count": 15,
   "metadata": {},
   "outputs": [
    {
     "name": "stderr",
     "output_type": "stream",
     "text": [
      "/home/dennis/miniconda3/envs/bioinformatics/lib/python3.9/site-packages/sklearn/cluster/_kmeans.py:870: FutureWarning: The default value of `n_init` will change from 10 to 'auto' in 1.4. Set the value of `n_init` explicitly to suppress the warning\n",
      "  warnings.warn(\n"
     ]
    },
    {
     "data": {
      "text/plain": [
       "(array([0, 1, 2, 3, 4, 5], dtype=int32), array([48,  2,  2,  2,  9, 13]))"
      ]
     },
     "execution_count": 15,
     "metadata": {},
     "output_type": "execute_result"
    }
   ],
   "source": [
    "# From the figure, everything above 0.6, manually count 6 dots above 0.6 and that's the eigengap!\n",
    "k = 6\n",
    "skip = 0 # Ng et al don't skip anything\n",
    "kmeans = KMeans(n_clusters=k)\n",
    "Y = sorted_eigvecs[:, skip:(k + skip)]\n",
    "kmeans.fit(Y)\n",
    "labels = kmeans.labels_\n",
    "np.unique(kmeans.labels_, return_counts=True) # clusters and the number of genes assigned to each cluster\n"
   ]
  },
  {
   "cell_type": "code",
   "execution_count": 16,
   "metadata": {},
   "outputs": [],
   "source": [
    "clusters = []\n",
    "for i in range(k):\n",
    "    genes = np.argwhere(kmeans.labels_ == i).flatten()\n",
    "    clusters.append(pruned_labels[genes])"
   ]
  },
  {
   "cell_type": "code",
   "execution_count": 17,
   "metadata": {},
   "outputs": [
    {
     "data": {
      "text/plain": [
       "array(['UTF1', 'FOXQ1', 'TCF15', 'ETV5', 'CREB3L2', 'NFXL1', 'SOX7',\n",
       "       'TAX1BP3', 'TET1', 'PEG3', 'EGR1', 'RUNX1', 'CREB3', 'CARHSP1',\n",
       "       'RARG', 'XBP1', 'RERE', 'TRP53', 'ZFP57', 'ZFP710', 'MYCN',\n",
       "       'GATA6', 'HOPX', 'ID1', 'HNF1B', 'GLI1', 'FOXD3', 'ETV4', 'MYBL2',\n",
       "       'TEAD4', 'NFIL3', 'GLI2', 'KLF4', 'RHOX6', 'PURB', 'PHB', 'ZC3H7A',\n",
       "       'ERF', 'SATB2', 'AFF1', 'HNRNPK', 'ZFP532', 'ELF2', 'JUN', 'BMYC',\n",
       "       'TFEB', 'SALL4', 'ZFP462'], dtype=object)"
      ]
     },
     "execution_count": 17,
     "metadata": {},
     "output_type": "execute_result"
    }
   ],
   "source": [
    "# TODO: analyze what's in the clusters proper\n",
    "clusters[0]"
   ]
  }
 ],
 "metadata": {
  "kernelspec": {
   "display_name": "bioinformatics",
   "language": "python",
   "name": "python3"
  },
  "language_info": {
   "codemirror_mode": {
    "name": "ipython",
    "version": 3
   },
   "file_extension": ".py",
   "mimetype": "text/x-python",
   "name": "python",
   "nbconvert_exporter": "python",
   "pygments_lexer": "ipython3",
   "version": "3.9.16"
  },
  "orig_nbformat": 4
 },
 "nbformat": 4,
 "nbformat_minor": 2
}
