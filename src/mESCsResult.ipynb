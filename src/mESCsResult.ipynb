{
 "cells": [
  {
   "attachments": {},
   "cell_type": "markdown",
   "metadata": {},
   "source": [
    "Source publication for dataset: \n",
    "https://www.nature.com/articles/s41467-018-02866-0"
   ]
  },
  {
   "cell_type": "code",
   "execution_count": 1,
   "metadata": {},
   "outputs": [],
   "source": [
    "import anndata as ad\n",
    "import numpy as np\n",
    "import pandas as pd\n",
    "from copy import deepcopy\n",
    "import seaborn as sn"
   ]
  },
  {
   "cell_type": "code",
   "execution_count": 2,
   "metadata": {},
   "outputs": [],
   "source": [
    "n_cells = 456\n",
    "n_genes = 100\n",
    "PWscores = np.zeros((n_cells, n_genes, n_genes))\n",
    "\n",
    "for i in range(n_cells):\n",
    "    path = \"./../data/TEsmESC/geneXgene{i}.csv\".format(i=(i+1))\n",
    "    df_temp = pd.read_csv(path)\n",
    "    PWscores[i, :, :] = np.copy(df_temp.values)\n",
    "    "
   ]
  },
  {
   "attachments": {},
   "cell_type": "markdown",
   "metadata": {},
   "source": [
    "# Visualizing TE scores across cells (over time)"
   ]
  },
  {
   "cell_type": "code",
   "execution_count": 3,
   "metadata": {},
   "outputs": [],
   "source": [
    "# heat_fig = sn.heatmap(PWscores[0, :, :], square=True)\n",
    "    # as_file = heat_fig.get_figure()\n",
    "    # path = \"./../out/cell{i}.png\".format(i = i + 1)\n",
    "    # as_file.savefig(path)\n",
    "    # ax.tick_params(left=False, bottom=False)"
   ]
  },
  {
   "attachments": {},
   "cell_type": "markdown",
   "metadata": {},
   "source": [
    "# The informative gene pathway extraction algorithm\n",
    "(For now implemented as just an easy intuitive iterative solution, maybe later will attempt a numpy/C++ acceleration!)"
   ]
  },
  {
   "cell_type": "code",
   "execution_count": 4,
   "metadata": {},
   "outputs": [],
   "source": [
    "# TODO: right now it is just greedy bfs, but I want paths to be able to branch and for multiple nodes to all connect to a common node\n",
    "# eg. if you get 3-> 59, 18 -> 59 that outta be shown as 3&18 -> 59 (somehow)\n",
    "\"\"\"\n",
    "TODO: just build the incidence matrix as you go? each iteration adds a new set 'layer' of edges\n",
    "--> see notes !\n",
    "implement this proper (will write another function)\n",
    "\"\"\"\n",
    "def get_hyperedge_set(cell_index):\n",
    "\n",
    "    cell_nw = PWscores[cell_index, :, :]\n",
    "    \n",
    "    # init\n",
    "    paths = []\n",
    "    max_itrs = n_genes\n",
    "    itrs = 0\n",
    "    tolerance = np.max(cell_nw) * 0.2 # all scores within whatever % of the max\n",
    "    max_path_len = 0\n",
    "    max_path_len_prev = -1\n",
    "\n",
    "    for i in range(n_genes): #row is the predecessor node\n",
    "        index_max = np.argmax(cell_nw[i, :]) # index of max column is the successor (incident) node\n",
    "        \n",
    "        if cell_nw[i, index_max] > tolerance:\n",
    "            paths.append([i, index_max])\n",
    "\n",
    "    # update\n",
    "    while (max_itrs > itrs) and (max_path_len > max_path_len_prev):\n",
    "        max_path_len_prev = max_path_len\n",
    "        new_paths = deepcopy(paths) \n",
    "        for p in range(len(paths)):\n",
    "            path = paths[p]\n",
    "            if len(path) >= max_path_len:\n",
    "                row = path[-1]\n",
    "                index_max = np.argmax(cell_nw[row, :])\n",
    "                \n",
    "                if (cell_nw[row, index_max] > tolerance) and (index_max not in new_paths[p]):\n",
    "                    new_paths[p].append(index_max)\n",
    "\n",
    "        max_path_len = max( len(x) for x in new_paths )\n",
    "        itrs += 1\n",
    "        paths = deepcopy(new_paths)\n",
    "    \n",
    "    return paths"
   ]
  },
  {
   "attachments": {},
   "cell_type": "markdown",
   "metadata": {},
   "source": [
    "# Creation of the hypergraph"
   ]
  },
  {
   "attachments": {},
   "cell_type": "markdown",
   "metadata": {},
   "source": [
    "Note: a simple canonical edge has the form of tail->head"
   ]
  },
  {
   "cell_type": "code",
   "execution_count": 5,
   "metadata": {},
   "outputs": [],
   "source": [
    "\"\"\"\n",
    "Merges tails with common heads to identify all the multi-arity relations to represent as hedges and updates the supplied incidence matrix with these final hedges.\n",
    "_edges: a list of tuples (tail_set, head_set) of all the initial single-tailed edges (note: they are sets, not lists!)\n",
    "B: a list of n_gene-sized integer numpy arrays to represent the incidence matrix to update.\n",
    "TODO: Test and be especially make sure Python's memory system isn't doing any weird reference copying and producing the wrong stuff!\n",
    "Note, all set operations return copies, so this SHOULD be okay.\n",
    "\"\"\"\n",
    "def merge_edges(_edges, B):\n",
    "    \n",
    "    # init\n",
    "    edges = deepcopy(_edges)\n",
    "    m = len(edges)\n",
    "\n",
    "    # Stop when there's only a single edge left (not possible to merge anything else)\n",
    "    while (m >= 2):\n",
    "        \n",
    "        new_edges = [] \n",
    "        for i in range(0, m, 1):\n",
    "            e1 = edges[i]\n",
    "            for j in range(i + 1, m, 1):\n",
    "                e2 = edges[j]\n",
    "                common_heads = e1[1].intersection(e2[1])\n",
    "                if (len(common_heads) > 0):\n",
    "                    \n",
    "                    # The new edge\n",
    "                    new_tails = e1[0].union(e2[0]) \n",
    "                    new_edge = ([new_tails, common_heads])\n",
    "                    new_edges.append(new_edge)\n",
    "\n",
    "                    # Updating old edges (their head sets)\n",
    "                    e1[1] = set(e1[1] - common_heads)\n",
    "                    e2[1] = set(e2[1] - common_heads)\n",
    "\n",
    "        \n",
    "        # Add all edges with non-null head sets to the incidence matrix\n",
    "        for edge in edges:\n",
    "            col = np.zeros(n_genes)\n",
    "            if len(edge[1]) > 0:\n",
    "                for tail in edge[0]:\n",
    "                    col[tail] = 1\n",
    "                for head in edge[1]:\n",
    "                    col[head] = 1\n",
    "\n",
    "                B.append(np.copy(col))\n",
    "        \n",
    "        edges = deepcopy(new_edges)\n",
    "        m = len(edges)"
   ]
  },
  {
   "cell_type": "code",
   "execution_count": 6,
   "metadata": {},
   "outputs": [],
   "source": [
    "\"\"\" \n",
    "Creates a hypergraph, represented using an incidence matrix, from the given cell's PW gene network. \n",
    "cell_index: the index into the PWscores array for the desired cell.\n",
    "p: percentage parameter to use in tolerance calculation; decides which relationships relative to the maximum PW TE. \n",
    "returns: B the incidence matrix of the constructed hypergraph. \n",
    "\"\"\"\n",
    "def construct_hyper_graph(cell_index, p):\n",
    "    # init\n",
    "    unique_genes = set()\n",
    "    cell_nw = PWscores[cell_index, :, :]\n",
    "\n",
    "    # The incidence matrix (might use different data structure)\n",
    "    B = []\n",
    "\n",
    "    # all scores within whatever % of the max\n",
    "    tolerance = np.max(cell_nw) * p\n",
    "\n",
    "    tails = set(np.arange(start=0, stop=n_genes, step=1))\n",
    "\n",
    "    # debug var\n",
    "    count = 0\n",
    "\n",
    "    # TODO: TEST IT ALL \n",
    "    while (len(tails) > 0):\n",
    "        edges = []\n",
    "        new_tails = set()\n",
    "        heads_to_remember = set()\n",
    "\n",
    "        for tail in tails:\n",
    "            heads = set(np.flatnonzero(cell_nw[tail, :] > tolerance))\n",
    "            \n",
    "            # Termination condition: once there's no new heads added this never gets hit, no new tails get added and the tail set becomes null at the end of while itr\n",
    "            if (len(heads) > 0) and (heads.isdisjoint(unique_genes)):\n",
    "                \n",
    "                count += 1\n",
    "                \n",
    "                for head in heads:\n",
    "                    # error handling\n",
    "                    if (cell_nw[tail, head] <= tolerance):\n",
    "                        print(\"BIG BUG\") # TODO: keep this error cond here and handle it better!\n",
    "\n",
    "                    # update the next-level tails\n",
    "                    new_tails.add(head)\n",
    "                    \n",
    "                    # TODO: maybe make the set of all heads for this level here and wait till the end of the iteration to deep copy it over?\n",
    "                    heads_to_remember.add(head)\n",
    "                    \n",
    "                # update the edge set for this hgraph level\n",
    "                tail_as_set = set()\n",
    "                tail_as_set.add(tail)\n",
    "                edges.append([tail_as_set, heads])\n",
    "        \n",
    "        # update the unique heads set\n",
    "        # for e in edges:\n",
    "        #     for h in e[1]:\n",
    "        #         unique_genes.add(h)\n",
    "        for h in heads_to_remember:\n",
    "            unique_genes.add(h)\n",
    "\n",
    "        merge_edges(edges, B)\n",
    "        tails = set(deepcopy(new_tails))\n",
    "    \n",
    "    return B\n",
    "\n"
   ]
  },
  {
   "cell_type": "code",
   "execution_count": 7,
   "metadata": {},
   "outputs": [],
   "source": [
    "hedges = []\n",
    "for i in range(n_cells):\n",
    "    G = construct_hyper_graph(i, 0.7)\n",
    "    if (len(G) > 0):\n",
    "        # networks.append(G)\n",
    "        #TODO: ensure you keep two dims even if the input graph only has a single edge\n",
    "        hedges.append(np.transpose(np.array(G)))\n",
    "    # for e in G:\n",
    "    #     # if (np.sum(e < 0)) >= 2:\n",
    "    #         # print(\"This SHOULD happen, you know from the pathway function, so either this is a bug OR the uniqueness invariant is too strong!\\n\")\n",
    "    #     if (np.sum(e < 0) == 0):\n",
    "    #         print(\"bug\")\n",
    "    #     if (np.sum(e > 0) == 0):\n",
    "    #         print(\"a lesser bug\")\n",
    "    #     if (np.sum(e < 0) > 1) and (np.sum(e > 0) > 1):\n",
    "    #         print(\"Number of tails: {x}\".format(x=np.sum(e < 0)))\n",
    "    #         print(\"Number of heads: {x}\\n\".format(x=np.sum(e > 0)))\n",
    "\n",
    "# TODO: Test proper via some contrived examples\n",
    "# len(networks[0][0]) list of lists of numpy arrays\n",
    "# for g in networks:\n",
    "# n1 = np.array(np.transpose(networks[0]))\n",
    "# n2 = np.array(np.transpose(networks[1]))\n",
    "# n3 = np.array(np.transpose(networks[2]))\n",
    "# res = []\n",
    "# # res.append(n1)\n",
    "# np.concatenate([n1, n], axis=1).shape\n",
    "# np.transpose(networks[0]).shape"
   ]
  },
  {
   "cell_type": "code",
   "execution_count": 8,
   "metadata": {},
   "outputs": [
    {
     "data": {
      "text/plain": [
       "(100, 2065)"
      ]
     },
     "execution_count": 8,
     "metadata": {},
     "output_type": "execute_result"
    }
   ],
   "source": [
    "H = np.concatenate(hedges, axis=1)\n",
    "H.shape"
   ]
  },
  {
   "attachments": {},
   "cell_type": "markdown",
   "metadata": {},
   "source": [
    "# Merging the edges into one big hypergraph for clustering"
   ]
  },
  {
   "cell_type": "code",
   "execution_count": 9,
   "metadata": {},
   "outputs": [
    {
     "name": "stderr",
     "output_type": "stream",
     "text": [
      "/home/dennis/miniconda3/envs/bioinformatics/lib/python3.9/site-packages/sklearn/cluster/_kmeans.py:870: FutureWarning: The default value of `n_init` will change from 10 to 'auto' in 1.4. Set the value of `n_init` explicitly to suppress the warning\n",
      "  warnings.warn(\n"
     ]
    },
    {
     "data": {
      "text/plain": [
       "(array([0, 1, 2, 3, 4, 5, 6, 7, 8, 9], dtype=int32),\n",
       " array([ 1,  1,  1,  2, 73,  3, 15,  2,  1,  1]))"
      ]
     },
     "execution_count": 9,
     "metadata": {},
     "output_type": "execute_result"
    }
   ],
   "source": [
    "from sklearn.cluster import KMeans\n",
    "\n",
    "L = H @ np.transpose(H)\n",
    "eigvals, eigvecs = np.linalg.eig(L)\n",
    "\n",
    "# sort based on eigenvalues\n",
    "vecs = eigvecs[:,np.argsort(eigvals)]\n",
    "vals = eigvals[np.argsort(eigvals)]\n",
    "\n",
    "\n",
    "# TODO: Finding the number of clusters correctly?\n",
    "# k = vals.shape[0] - np.sum(vals  0)\n",
    "k = 10\n",
    "# TODO: Fit from the first non-zero eigenvalue? Need to do this?\n",
    "index = np.where(vals > 0)[0][0] \n",
    "\n",
    "kmeans = KMeans(n_clusters=k)\n",
    "kmeans.fit(vecs[:,])\n",
    "np.unique(kmeans.labels_, return_counts=True) # clusters and the number of genes assigned to each cluster\n"
   ]
  },
  {
   "cell_type": "code",
   "execution_count": 10,
   "metadata": {},
   "outputs": [
    {
     "name": "stdout",
     "output_type": "stream",
     "text": [
      "['EPAS1' 'ZFP42' 'TCF15' 'ETV5' 'CREB3L2' 'NFXL1' 'SOX7' 'SNAI1' 'CREB3'\n",
      " 'ZFP57' 'ZFP710' 'HOPX' 'KLF3' 'ELF2' 'TFEB']\n"
     ]
    }
   ],
   "source": [
    "gene_labels = df_temp.columns.to_numpy()\n",
    "# gene_labels[0] == 'SOX2'\n",
    "num_clusters = np.unique(kmeans.labels_).shape[0] #want a set for each cluster\n",
    "\n",
    "clusters = []\n",
    "for i in range(0, num_clusters, 1):\n",
    "    genes = np.argwhere(kmeans.labels_ == i).flatten()\n",
    "    if genes.shape[0] > 1:\n",
    "        clusters.append(genes)\n",
    "\n",
    "for c in clusters:\n",
    "    if len(c) > 10 and len(c) < 20:\n",
    "        # print(\"here\")\n",
    "        print(gene_labels[c])"
   ]
  },
  {
   "cell_type": "code",
   "execution_count": 11,
   "metadata": {},
   "outputs": [
    {
     "data": {
      "text/plain": [
       "Text(0, 0.5, 'counts')"
      ]
     },
     "execution_count": 11,
     "metadata": {},
     "output_type": "execute_result"
    },
    {
     "data": {
      "image/png": "[encoded data removed]",
      "text/plain": [
       "<Figure size 640x480 with 1 Axes>"
      ]
     },
     "metadata": {},
     "output_type": "display_data"
    }
   ],
   "source": [
    "# # sn.histplot(eigs)\n",
    "import matplotlib.pyplot as plt\n",
    "# #456 vectors, each one has a set of values, I want a count for each unique value\n",
    "eigvals[eigvals < 1] = 0\n",
    "# eigvals = np.argwhere(eigvals > 10)\n",
    "bins, counts = np.unique(eigvals, return_counts=True) # tuple for each eigen value: the value and its count\n",
    "# # sn.histplot(x=hist[1], y=hist[0])\n",
    "# # plt.pyplot.hist(bins, weights=counts)\n",
    "plt.hist(bins[:], color = 'blue', edgecolor = 'black', weights=counts[:])\n",
    "plt.xlabel(\"eigenvalues\")\n",
    "plt.ylabel(\"counts\")"
   ]
  }
 ],
 "metadata": {
  "kernelspec": {
   "display_name": "bioinformatics",
   "language": "python",
   "name": "python3"
  },
  "language_info": {
   "codemirror_mode": {
    "name": "ipython",
    "version": 3
   },
   "file_extension": ".py",
   "mimetype": "text/x-python",
   "name": "python",
   "nbconvert_exporter": "python",
   "pygments_lexer": "ipython3",
   "version": "3.9.16"
  },
  "orig_nbformat": 4
 },
 "nbformat": 4,
 "nbformat_minor": 2
}
