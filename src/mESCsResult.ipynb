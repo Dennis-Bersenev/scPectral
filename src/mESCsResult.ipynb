{
 "cells": [
  {
   "attachments": {},
   "cell_type": "markdown",
   "metadata": {},
   "source": [
    "Source publication for dataset: \n",
    "https://www.nature.com/articles/s41467-018-02866-0"
   ]
  },
  {
   "cell_type": "code",
   "execution_count": 1,
   "metadata": {},
   "outputs": [],
   "source": [
    "import anndata as ad\n",
    "import numpy as np\n",
    "import pandas as pd\n",
    "from copy import deepcopy\n",
    "import seaborn as sn"
   ]
  },
  {
   "cell_type": "code",
   "execution_count": 2,
   "metadata": {},
   "outputs": [],
   "source": [
    "n_cells = 456\n",
    "n_genes = 100\n",
    "PWscores = np.zeros((n_cells, n_genes, n_genes))\n",
    "\n",
    "for i in range(n_cells):\n",
    "    path = \"./../data/TEsmESC/geneXgene{i}.csv\".format(i=(i+1))\n",
    "    df_temp = pd.read_csv(path)\n",
    "    PWscores[i, :, :] = np.copy(df_temp.values)\n",
    "    "
   ]
  },
  {
   "attachments": {},
   "cell_type": "markdown",
   "metadata": {},
   "source": [
    "TODO: <br />\n",
    "Make the graph! We got cells, and we got PW gene scores for all the cells! <br />\n",
    "What does a high score mean? It means that within the neighbourhood of that cell, the first gene is informative of the other gene! <br />\n",
    "Each entry of the matrix: PWscores[i, j, k] represents the transfer entropy score of j → k in the neighbourhood of cell i. <br />\n",
    "Why's that significant? How does that help anyone?\n",
    "--> Read up on that! <br/> <br/>\n",
    "\n",
    "Steps: <br/>\n",
    "1. Get the OG data and remake the trajectory by just putting the most similar cells side-by-side <br/>\n",
    "2. Do the same with the PW network and see how the two compare <br/>\n",
    "(first two steps are just to get a sense of the cell manifold)<br/>\n",
    "3. Find high cost PATHS in each cell, i.e. represent each cell as an interaction network and find the highest entropy paths through it <br/>\n",
    "4. Use these as the edges of your hypergraph, and do this for all cells <br/>\n",
    "(it makes sense because we're interested in what gene pathways have high TE scores across cells)<br/>\n",
    "5. Spectral clustering hopefully reveals some developmentally critical genes<br/>\n",
    "(keep in mind this is a dataset of transcription factors!)<br/> \n"
   ]
  },
  {
   "attachments": {},
   "cell_type": "markdown",
   "metadata": {},
   "source": [
    "Initialize the path(s) with the maximum value(s) <br/>\n",
    "    - decide which values to keep <i>relative</i> to the <i>original maximum</i> value"
   ]
  },
  {
   "cell_type": "code",
   "execution_count": 3,
   "metadata": {},
   "outputs": [],
   "source": [
    "# Remember, the entries in the matrix are weights for edges... what you want to ultimately output are the genes involved in the edges!\n",
    "# row/col index = row->col edge, i.e. entropy between gene_row->gene_col (TODO: or the reverse)\n",
    "# so you wanna output the row->col indices, and eventually map those back to gene names! "
   ]
  },
  {
   "attachments": {},
   "cell_type": "markdown",
   "metadata": {},
   "source": [
    "# Visualizing TE scores across cells (over time)"
   ]
  },
  {
   "cell_type": "code",
   "execution_count": 4,
   "metadata": {},
   "outputs": [],
   "source": [
    "# heat_fig = sn.heatmap(PWscores[0, :, :], square=True)\n",
    "    # as_file = heat_fig.get_figure()\n",
    "    # path = \"./../out/cell{i}.png\".format(i = i + 1)\n",
    "    # as_file.savefig(path)\n",
    "    # ax.tick_params(left=False, bottom=False)"
   ]
  },
  {
   "attachments": {},
   "cell_type": "markdown",
   "metadata": {},
   "source": [
    "# The informative gene pathway extraction algorithm\n",
    "(For now implemented as just an easy intuitive iterative solution, maybe later will attempt a numpy/C++ acceleration!)"
   ]
  },
  {
   "cell_type": "code",
   "execution_count": 5,
   "metadata": {},
   "outputs": [],
   "source": [
    "# TODO: right now it is just greedy bfs, but I want paths to be able to branch and for multiple nodes to all connect to a common node\n",
    "# eg. if you get 3-> 59, 18 -> 59 that outta be shown as 3&18 -> 59 (somehow)\n",
    "\"\"\"\n",
    "TODO: just build the incidence matrix as you go? each iteration adds a new set 'layer' of edges\n",
    "--> see notes !\n",
    "implement this proper (will write another function)\n",
    "\"\"\"\n",
    "def get_hyperedge_set(cell_index):\n",
    "\n",
    "    cell_nw = PWscores[cell_index, :, :]\n",
    "    \n",
    "    # init\n",
    "    paths = []\n",
    "    max_itrs = n_genes\n",
    "    itrs = 0\n",
    "    tolerance = np.max(cell_nw) * 0.2 # all scores within whatever % of the max\n",
    "    max_path_len = 0\n",
    "    max_path_len_prev = -1\n",
    "\n",
    "    for i in range(n_genes): #row is the predecessor node\n",
    "        index_max = np.argmax(cell_nw[i, :]) # index of max column is the successor (incident) node\n",
    "        \n",
    "        if cell_nw[i, index_max] > tolerance:\n",
    "            paths.append([i, index_max])\n",
    "\n",
    "    # update\n",
    "    while (max_itrs > itrs) and (max_path_len > max_path_len_prev):\n",
    "        max_path_len_prev = max_path_len\n",
    "        new_paths = deepcopy(paths) \n",
    "        for p in range(len(paths)):\n",
    "            path = paths[p]\n",
    "            if len(path) >= max_path_len:\n",
    "                row = path[-1]\n",
    "                index_max = np.argmax(cell_nw[row, :])\n",
    "                \n",
    "                if (cell_nw[row, index_max] > tolerance) and (index_max not in new_paths[p]):\n",
    "                    new_paths[p].append(index_max)\n",
    "\n",
    "        max_path_len = max( len(x) for x in new_paths )\n",
    "        itrs += 1\n",
    "        paths = deepcopy(new_paths)\n",
    "    \n",
    "    return paths"
   ]
  },
  {
   "attachments": {},
   "cell_type": "markdown",
   "metadata": {},
   "source": [
    "# Creation of the hypergraph"
   ]
  },
  {
   "attachments": {},
   "cell_type": "markdown",
   "metadata": {},
   "source": [
    "Note: a simple canonical edge has the form of tail->head"
   ]
  },
  {
   "cell_type": "code",
   "execution_count": 6,
   "metadata": {},
   "outputs": [],
   "source": [
    "\"\"\"\n",
    "Merges tails with common heads to identify all the multi-arity relations to represent as hedges and updates the supplied incidence matrix with these final hedges.\n",
    "_edges: a list of tuples (tail_set, head_set) of all the initial single-tailed edges (note: they are sets, not lists!)\n",
    "B: a list of n_gene-sized integer numpy arrays to represent the incidence matrix to update.\n",
    "TODO: Test and be especially make sure Python's memory system isn't doing any weird reference copying and producing the wrong stuff!\n",
    "Note, all set operations return copies, so this SHOULD be okay.\n",
    "\"\"\"\n",
    "def merge_edges(_edges, B):\n",
    "    \n",
    "    # init\n",
    "    edges = deepcopy(_edges)\n",
    "    m = len(edges)\n",
    "\n",
    "    # Stop when there's only a single edge left (not possible to merge anything else)\n",
    "    while (m >= 2):\n",
    "        \n",
    "        new_edges = [] \n",
    "        for i in range(0, m, 1):\n",
    "            e1 = edges[i]\n",
    "            for j in range(i + 1, m, 1):\n",
    "                e2 = edges[j]\n",
    "                common_heads = e1[1].intersection(e2[1])\n",
    "                if (len(common_heads) > 0):\n",
    "                    \n",
    "                    # The new edge\n",
    "                    new_tails = e1[0].union(e2[0]) \n",
    "                    new_edge = ([new_tails, common_heads])\n",
    "                    new_edges.append(new_edge)\n",
    "\n",
    "                    # Updating old edges (their head sets)\n",
    "                    e1[1] = set(e1[1] - common_heads)\n",
    "                    e2[1] = set(e2[1] - common_heads)\n",
    "\n",
    "        \n",
    "        # Add all edges with non-null head sets to the incidence matrix\n",
    "        for edge in edges:\n",
    "            col = np.zeros(n_genes)\n",
    "            if len(edge[1]) > 0:\n",
    "                for tail in edge[0]:\n",
    "                    col[tail] = 1\n",
    "                for head in edge[1]:\n",
    "                    col[head] = 1\n",
    "\n",
    "                B.append(np.copy(col))\n",
    "        \n",
    "        edges = deepcopy(new_edges)\n",
    "        m = len(edges)"
   ]
  },
  {
   "cell_type": "code",
   "execution_count": 7,
   "metadata": {},
   "outputs": [],
   "source": [
    "\"\"\" \n",
    "Creates a hypergraph, represented using an incidence matrix, from the given cell's PW gene network. \n",
    "cell_index: the index into the PWscores array for the desired cell.\n",
    "p: percentage parameter to use in tolerance calculation; decides which relationships relative to the maximum PW TE. \n",
    "returns: B the incidence matrix of the constructed hypergraph. \n",
    "\"\"\"\n",
    "def construct_hyper_graph(cell_index, p):\n",
    "    # init\n",
    "    unique_genes = set()\n",
    "    cell_nw = PWscores[cell_index, :, :]\n",
    "\n",
    "    # The incidence matrix (might use different data structure)\n",
    "    B = []\n",
    "\n",
    "    # all scores within whatever % of the max\n",
    "    tolerance = np.max(cell_nw) * p\n",
    "\n",
    "    tails = set(np.arange(start=0, stop=n_genes, step=1))\n",
    "\n",
    "    # debug var\n",
    "    count = 0\n",
    "\n",
    "    # TODO: TEST IT ALL \n",
    "    while (len(tails) > 0):\n",
    "        edges = []\n",
    "        new_tails = set()\n",
    "        heads_to_remember = set()\n",
    "\n",
    "        for tail in tails:\n",
    "            heads = set(np.flatnonzero(cell_nw[tail, :] > tolerance))\n",
    "            \n",
    "            # Termination condition: once there's no new heads added this never gets hit, no new tails get added and the tail set becomes null at the end of while itr\n",
    "            if (len(heads) > 0) and (heads.isdisjoint(unique_genes)):\n",
    "                \n",
    "                count += 1\n",
    "                \n",
    "                for head in heads:\n",
    "                    # error handling\n",
    "                    if (cell_nw[tail, head] <= tolerance):\n",
    "                        print(\"BIG BUG\") # TODO: keep this error cond here and handle it better!\n",
    "\n",
    "                    # update the next-level tails\n",
    "                    new_tails.add(head)\n",
    "                    \n",
    "                    # TODO: maybe make the set of all heads for this level here and wait till the end of the iteration to deep copy it over?\n",
    "                    heads_to_remember.add(head)\n",
    "                    \n",
    "                # update the edge set for this hgraph level\n",
    "                tail_as_set = set()\n",
    "                tail_as_set.add(tail)\n",
    "                edges.append([tail_as_set, heads])\n",
    "        \n",
    "        # update the unique heads set\n",
    "        # for e in edges:\n",
    "        #     for h in e[1]:\n",
    "        #         unique_genes.add(h)\n",
    "        for h in heads_to_remember:\n",
    "            unique_genes.add(h)\n",
    "\n",
    "        merge_edges(edges, B)\n",
    "        tails = set(deepcopy(new_tails))\n",
    "    \n",
    "    return B\n",
    "\n"
   ]
  },
  {
   "cell_type": "code",
   "execution_count": 8,
   "metadata": {},
   "outputs": [],
   "source": [
    "# # Playing with sets\n",
    "# my_set = set()\n",
    "# my_set.add(4)\n",
    "# my_set.add(2)\n",
    "# my_set.add(4)\n",
    "# my_set.add(3)\n",
    "\n",
    "# b_set = set()\n",
    "# b_set.add(2)\n",
    "# b_set.add(3)\n",
    "\n",
    "# # this code works!\n",
    "# a_set = set(np.arange(0, 3))\n",
    "\n",
    "# l1 = list(deepcopy(a_set))\n",
    "# my_set = my_set - b_set\n",
    "# len(my_set)\n",
    "# a_set.intersection(b_set)\n",
    "# b_set = set(deepcopy(a_set))\n",
    "# for a in a_set:\n",
    "#     # print(type(int(a)))\n",
    "#     my_set.add(a)\n",
    "\n",
    "# null_s = set()\n",
    "# b_set = set(deepcopy(null_s))\n",
    "# my_set.isdisjoint(a_set)"
   ]
  },
  {
   "cell_type": "code",
   "execution_count": 57,
   "metadata": {},
   "outputs": [],
   "source": [
    "hedges = []\n",
    "for i in range(n_cells):\n",
    "    G = construct_hyper_graph(i, 0.7)\n",
    "    if (len(G) > 0):\n",
    "        # networks.append(G)\n",
    "        #TODO: ensure you keep two dims even if the input graph only has a single edge\n",
    "        hedges.append(np.transpose(np.array(G)))\n",
    "    # for e in G:\n",
    "    #     # if (np.sum(e < 0)) >= 2:\n",
    "    #         # print(\"This SHOULD happen, you know from the pathway function, so either this is a bug OR the uniqueness invariant is too strong!\\n\")\n",
    "    #     if (np.sum(e < 0) == 0):\n",
    "    #         print(\"bug\")\n",
    "    #     if (np.sum(e > 0) == 0):\n",
    "    #         print(\"a lesser bug\")\n",
    "    #     if (np.sum(e < 0) > 1) and (np.sum(e > 0) > 1):\n",
    "    #         print(\"Number of tails: {x}\".format(x=np.sum(e < 0)))\n",
    "    #         print(\"Number of heads: {x}\\n\".format(x=np.sum(e > 0)))\n",
    "\n",
    "# TODO: Test proper via some contrived examples\n",
    "# len(networks[0][0]) list of lists of numpy arrays\n",
    "# for g in networks:\n",
    "# n1 = np.array(np.transpose(networks[0]))\n",
    "# n2 = np.array(np.transpose(networks[1]))\n",
    "# n3 = np.array(np.transpose(networks[2]))\n",
    "# res = []\n",
    "# # res.append(n1)\n",
    "# np.concatenate([n1, n], axis=1).shape\n",
    "# np.transpose(networks[0]).shape"
   ]
  },
  {
   "cell_type": "code",
   "execution_count": 59,
   "metadata": {},
   "outputs": [
    {
     "data": {
      "text/plain": [
       "(100, 2065)"
      ]
     },
     "execution_count": 59,
     "metadata": {},
     "output_type": "execute_result"
    }
   ],
   "source": [
    "H = np.concatenate(hedges, axis=1)\n",
    "H.shape"
   ]
  },
  {
   "attachments": {},
   "cell_type": "markdown",
   "metadata": {},
   "source": [
    "# Merging the edges into one big hypergraph for clustering"
   ]
  },
  {
   "cell_type": "code",
   "execution_count": 81,
   "metadata": {},
   "outputs": [
    {
     "name": "stderr",
     "output_type": "stream",
     "text": [
      "/home/dennis/miniconda3/envs/bioinformatics/lib/python3.9/site-packages/sklearn/cluster/_kmeans.py:870: FutureWarning: The default value of `n_init` will change from 10 to 'auto' in 1.4. Set the value of `n_init` explicitly to suppress the warning\n",
      "  warnings.warn(\n"
     ]
    },
    {
     "data": {
      "text/plain": [
       "(array([0, 1, 2, 3, 4, 5, 6, 7, 8, 9], dtype=int32),\n",
       " array([ 4,  7,  4, 53,  9, 19,  1,  1,  1,  1]))"
      ]
     },
     "execution_count": 81,
     "metadata": {},
     "output_type": "execute_result"
    }
   ],
   "source": [
    "from sklearn.cluster import KMeans\n",
    "\n",
    "L = H @ np.transpose(H)\n",
    "eigvals, eigvecs = np.linalg.eig(L)\n",
    "\n",
    "# sort based on eigenvalues\n",
    "vecs = eigvecs[:,np.argsort(eigvals)]\n",
    "vals = eigvals[np.argsort(eigvals)]\n",
    "\n",
    "\n",
    "# TODO: Finding the number of clusters correctly?\n",
    "# k = vals.shape[0] - np.sum(vals  0)\n",
    "k = 10\n",
    "# TODO: Fit from the first non-zero eigenvalue? Need to do this?\n",
    "index = np.where(vals > 0)[0][0] \n",
    "\n",
    "kmeans = KMeans(n_clusters=k)\n",
    "kmeans.fit(vecs[:,])\n",
    "np.unique(kmeans.labels_, return_counts=True) # clusters and the number of genes assigned to each cluster\n"
   ]
  },
  {
   "cell_type": "code",
   "execution_count": 82,
   "metadata": {},
   "outputs": [
    {
     "data": {
      "text/plain": [
       "Text(0, 0.5, 'counts')"
      ]
     },
     "execution_count": 82,
     "metadata": {},
     "output_type": "execute_result"
    },
    {
     "data": {
      "image/png": "[encoded data removed]",
      "text/plain": [
       "<Figure size 640x480 with 1 Axes>"
      ]
     },
     "metadata": {},
     "output_type": "display_data"
    }
   ],
   "source": [
    "# # sn.histplot(eigs)\n",
    "import matplotlib.pyplot as plt\n",
    "# #456 vectors, each one has a set of values, I want a count for each unique value\n",
    "eigvals[eigvals < 1] = 0\n",
    "# eigvals = np.argwhere(eigvals > 10)\n",
    "bins, counts = np.unique(eigvals, return_counts=True) # tuple for each eigen value: the value and its count\n",
    "# # sn.histplot(x=hist[1], y=hist[0])\n",
    "# # plt.pyplot.hist(bins, weights=counts)\n",
    "plt.hist(bins[:], color = 'blue', edgecolor = 'black', weights=counts[:])\n",
    "plt.xlabel(\"eigenvalues\")\n",
    "plt.ylabel(\"counts\")"
   ]
  },
  {
   "attachments": {},
   "cell_type": "markdown",
   "metadata": {},
   "source": [
    "# Spectrally clustering the hypergraph"
   ]
  },
  {
   "cell_type": "code",
   "execution_count": 14,
   "metadata": {},
   "outputs": [],
   "source": [
    "# # TODO: for now it's just standard spectral clustering, with no modifications involving the hypergraph structure \n",
    "# # TODO: extend to include ALL the data, but for now, just some.\n",
    "# from sklearn.cluster import KMeans\n",
    "\n",
    "# H_0 = np.asarray(networks[0])\n",
    "# L_0 = np.transpose(H_0) @ H_0 # not a bug, due to shape of incidence matrix H\n",
    "# eigvals_0, eigvecs_0 = np.linalg.eig(L_0)\n",
    "\n",
    "# # sort based on eigenvalues\n",
    "# vecs_0 = eigvecs_0[:,np.argsort(eigvals_0)]\n",
    "# vals_0 = eigvals_0[np.argsort(eigvals_0)]\n",
    "\n",
    "\n",
    "# # Finding the number of clusters\n",
    "# k = vals_0.shape[0] - np.sum(vals_0 > 1)\n",
    "\n",
    "# # TODO: Fit from the first non-zero eigenvalue? Need to do this?\n",
    "# index = np.where(vals_0 > 0)[0][0] \n",
    "\n",
    "# kmeans = KMeans(n_clusters=n_genes - k)\n",
    "# kmeans.fit(vecs_0[:,index:])\n",
    "# np.unique(kmeans.labels_, return_counts=True) # clusters and the number of genes assigned to each cluster\n",
    "\n",
    "# \"\"\"\n",
    "# kmeans.labels_ tells you which genes are in which cluster\n",
    "# All you really care about is grouping the genes in the same cluster into a set\n",
    "# So, one set for each cluster, each set containing the genes assigned to that cluster\n",
    "# Repeat for the next cell and merge sets with genes that are in common\n",
    "# --> probably a smarter way to do this later\n",
    "# Do this for all cells and see what you get!\n",
    "# Then, can get back to working on the presentation. \n",
    "# \"\"\"\n",
    "# # vecs_0.shape\n",
    "# # gene_labels = df_temp.columns.to_numpy()\n",
    "# # # gene_labels[0] == 'SOX2'\n",
    "# # num_clusters = np.unique(kmeans.labels_).shape[0] #want a set for each cluster\n",
    "\n",
    "# # for i in range(1, num_clusters, 1):\n",
    "# #     genes = np.argwhere(kmeans.labels_ == i)\n",
    "#     #map them to their names and put them into a set/array I can keep track of\n",
    "\n",
    "# # for i in range(n_genes):\n",
    "# #     if (kmeans.labels_ != 0):\n",
    "# # np.where(kmeans.labels_ == 3)\n",
    "# # kmeans.labels_\n",
    "# np.unique(kmeans.labels_, return_counts=True)"
   ]
  },
  {
   "attachments": {},
   "cell_type": "markdown",
   "metadata": {},
   "source": [
    "# Combining clusters to discover pathways"
   ]
  },
  {
   "cell_type": "code",
   "execution_count": 15,
   "metadata": {},
   "outputs": [],
   "source": [
    "# #TODO\n"
   ]
  }
 ],
 "metadata": {
  "kernelspec": {
   "display_name": "bioinformatics",
   "language": "python",
   "name": "python3"
  },
  "language_info": {
   "codemirror_mode": {
    "name": "ipython",
    "version": 3
   },
   "file_extension": ".py",
   "mimetype": "text/x-python",
   "name": "python",
   "nbconvert_exporter": "python",
   "pygments_lexer": "ipython3",
   "version": "3.9.16"
  },
  "orig_nbformat": 4
 },
 "nbformat": 4,
 "nbformat_minor": 2
}
